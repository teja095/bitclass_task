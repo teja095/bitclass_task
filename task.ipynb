{
 "cells": [
  {
   "cell_type": "code",
   "execution_count": 6,
   "metadata": {},
   "outputs": [],
   "source": [
    "import mysql.connector as connection"
   ]
  },
  {
   "cell_type": "code",
   "execution_count": 11,
   "metadata": {},
   "outputs": [],
   "source": [
    "try:\n",
    "    mydb = connection.connect(host=\"localhost\",user = \"root\",passwd = '123456',use_pure = True)\n",
    "    query = \"SHOW DATABASES\"\n",
    "\n",
    "    cursor = mydb.cursor()\n",
    "    cursor.execute(query)\n",
    "    \n",
    "\n",
    "except Exception as e:\n",
    "    mydb.close()\n",
    "    print(str(e))"
   ]
  },
  {
   "cell_type": "code",
   "execution_count": 16,
   "metadata": {},
   "outputs": [
    {
     "name": "stdout",
     "output_type": "stream",
     "text": [
      "database created!\n"
     ]
    }
   ],
   "source": [
    "try:\n",
    "    mydb = connection.connect(host=\"localhost\",user = \"root\",passwd = '123456',use_pure = True)\n",
    "    query = \"create database employeedata\";\n",
    "    cursor = mydb.cursor()\n",
    "    cursor.execute(query)\n",
    "    print(\"database created!\")\n",
    "except Exception as e:\n",
    "    mydb.close()\n",
    "    print(str(e))\n",
    "    \n"
   ]
  },
  {
   "cell_type": "markdown",
   "metadata": {},
   "source": [
    "Q)2"
   ]
  },
  {
   "cell_type": "code",
   "execution_count": 34,
   "metadata": {},
   "outputs": [
    {
     "name": "stdout",
     "output_type": "stream",
     "text": [
      "create table employeedata.salary_dat(emp_id integer, mon integer, salary integer)\n"
     ]
    }
   ],
   "source": [
    "query = \"create table employeedata.salary_dat(emp_id integer, mon integer, salary integer)\"\n",
    "print(query)\n"
   ]
  },
  {
   "cell_type": "code",
   "execution_count": 35,
   "metadata": {},
   "outputs": [
    {
     "name": "stdout",
     "output_type": "stream",
     "text": [
      "Table created!\n"
     ]
    }
   ],
   "source": [
    "cursor =mydb.cursor()\n",
    "cursor.execute(query)\n",
    "print('Table created!')"
   ]
  },
  {
   "cell_type": "code",
   "execution_count": 37,
   "metadata": {},
   "outputs": [],
   "source": [
    "cursor.execute(\"insert into employeedata.salary_dat values(1,3,50000)\")\n",
    "cursor.execute(\"insert into employeedata.salary_dat values(2,4,45000)\")\n",
    "cursor.execute(\"insert into employeedata.salary_dat values(3,3,36000)\")\n",
    "cursor.execute(\"insert into employeedata.salary_dat values(1,6,49000)\")\n",
    "cursor.execute(\"insert into employeedata.salary_dat values(4,4,51000)\")\n",
    "cursor.execute(\"insert into employeedata.salary_dat values(2,5,64000)\")\n",
    "mydb.commit()\n"
   ]
  },
  {
   "cell_type": "code",
   "execution_count": 41,
   "metadata": {},
   "outputs": [
    {
     "name": "stdout",
     "output_type": "stream",
     "text": [
      "create table employeedata.emp_dat(emp_id integer,emp_name varchar(10))\n"
     ]
    }
   ],
   "source": [
    "query = \"create table employeedata.emp_dat(emp_id integer,emp_name varchar(10))\"\n",
    "print(query)"
   ]
  },
  {
   "cell_type": "code",
   "execution_count": 42,
   "metadata": {},
   "outputs": [
    {
     "name": "stdout",
     "output_type": "stream",
     "text": [
      "Table Created!\n"
     ]
    }
   ],
   "source": [
    "cursor = mydb.cursor()\n",
    "cursor.execute(query)\n",
    "print('Table Created!')"
   ]
  },
  {
   "cell_type": "code",
   "execution_count": 45,
   "metadata": {},
   "outputs": [],
   "source": [
    "cursor.execute(\"Insert into employeedata.emp_dat values(1,'ramesh')\")\n",
    "cursor.execute(\"Insert into employeedata.emp_dat values(2,'suresh')\")\n",
    "cursor.execute(\"insert into employeedata.emp_dat values(3,'nikhil')\")\n",
    "cursor.execute(\"insert into employeedata.emp_dat values(4,'rajeev')\")\n",
    "mydb.commit()"
   ]
  },
  {
   "cell_type": "code",
   "execution_count": 56,
   "metadata": {},
   "outputs": [],
   "source": [
    "mydb = connection.connect(host=\"localhost\", database = 'employeedata',user=\"root\", passwd=\"123456\",use_pure=True)\n",
    "cursor1 = mydb.cursor()\n",
    "cursor1.execute(\"select max(salary) highest  ,b.emp_name from salary_dat highest right join emp_dat b on highest.emp_id = b.emp_id group by 2\")\n",
    "\n"
   ]
  },
  {
   "cell_type": "code",
   "execution_count": 57,
   "metadata": {},
   "outputs": [
    {
     "name": "stdout",
     "output_type": "stream",
     "text": [
      "(50000, 'ramesh')\n",
      "(64000, 'suresh')\n",
      "(36000, 'nikhil')\n",
      "(51000, 'rajeev')\n"
     ]
    }
   ],
   "source": [
    "for i in cursor1.fetchall():\n",
    "    print(i)"
   ]
  },
  {
   "cell_type": "markdown",
   "metadata": {},
   "source": [
    "Q)4"
   ]
  },
  {
   "cell_type": "code",
   "execution_count": 58,
   "metadata": {},
   "outputs": [
    {
     "name": "stdout",
     "output_type": "stream",
     "text": [
      "create table employeedata.cou_sta(country varchar(10),state varchar(10))\n"
     ]
    }
   ],
   "source": [
    "query = \"create table employeedata.cou_sta(country varchar(10),state varchar(10))\"\n",
    "print(query)"
   ]
  },
  {
   "cell_type": "code",
   "execution_count": 59,
   "metadata": {},
   "outputs": [
    {
     "name": "stdout",
     "output_type": "stream",
     "text": [
      "Table created!\n"
     ]
    }
   ],
   "source": [
    "cursor =mydb.cursor()\n",
    "cursor.execute(query)\n",
    "print('Table created!')"
   ]
  },
  {
   "cell_type": "code",
   "execution_count": null,
   "metadata": {},
   "outputs": [],
   "source": []
  },
  {
   "cell_type": "code",
   "execution_count": 61,
   "metadata": {},
   "outputs": [],
   "source": [
    "cursor.execute(\"insert into employeedata.cou_sta values('x','A')\")\n",
    "cursor.execute(\"insert into employeedata.cou_sta values('X','B')\")\n",
    "cursor.execute(\"insert into employeedata.cou_sta values('X','C')\")\n",
    "cursor.execute(\"insert into employeedata.cou_sta values('Y','D')\")\n",
    "cursor.execute(\"insert into employeedata.cou_sta values('Y','E')\")\n",
    "cursor.execute(\"insert into employeedata.cou_sta values('Y','F')\")\n",
    "mydb.commit()"
   ]
  },
  {
   "cell_type": "code",
   "execution_count": 64,
   "metadata": {},
   "outputs": [
    {
     "name": "stdout",
     "output_type": "stream",
     "text": [
      "create table employeedata.sta_popu(state varchar(10),population int)\n"
     ]
    }
   ],
   "source": [
    "query = \"create table employeedata.sta_popu(state varchar(10),population int)\"\n",
    "print(query)"
   ]
  },
  {
   "cell_type": "code",
   "execution_count": 65,
   "metadata": {},
   "outputs": [
    {
     "name": "stdout",
     "output_type": "stream",
     "text": [
      "Table created!\n"
     ]
    }
   ],
   "source": [
    "cursor =mydb.cursor()\n",
    "cursor.execute(query)\n",
    "print('Table created!')"
   ]
  },
  {
   "cell_type": "code",
   "execution_count": 66,
   "metadata": {},
   "outputs": [],
   "source": [
    "cursor.execute(\"insert into employeedata.sta_popu values('B',40)\")\n",
    "cursor.execute(\"insert into employeedata.sta_popu values('C',30)\")\n",
    "cursor.execute(\"insert into employeedata.sta_popu values('D',20)\")\n",
    "cursor.execute(\"insert into employeedata.sta_popu values('E',20)\")\n",
    "cursor.execute(\"insert into employeedata.sta_popu values('F',20)\")\n",
    "cursor.execute(\"insert into employeedata.sta_popu values('G',10)\")\n",
    "mydb.commit()"
   ]
  },
  {
   "cell_type": "code",
   "execution_count": 68,
   "metadata": {},
   "outputs": [],
   "source": [
    "mydb = connection.connect(host=\"localhost\", database = 'employeedata',user=\"root\", passwd=\"123456\",use_pure=True)\n",
    "cursor2 = mydb.cursor()\n",
    "cursor2.execute(\"select a.country, b.state,population from cou_sta a left join  sta_popu b on a.state = b.state\")"
   ]
  },
  {
   "cell_type": "code",
   "execution_count": 69,
   "metadata": {},
   "outputs": [
    {
     "name": "stdout",
     "output_type": "stream",
     "text": [
      "('x', None, None)\n",
      "('X', 'B', 40)\n",
      "('X', 'C', 30)\n",
      "('Y', 'D', 20)\n",
      "('x', None, None)\n",
      "('X', 'B', 40)\n",
      "('X', 'C', 30)\n",
      "('Y', 'D', 20)\n",
      "('Y', 'E', 20)\n",
      "('Y', 'F', 20)\n"
     ]
    }
   ],
   "source": [
    "for i in cursor2.fetchall():\n",
    "    print(i)"
   ]
  },
  {
   "cell_type": "markdown",
   "metadata": {},
   "source": [
    "Q)5"
   ]
  },
  {
   "cell_type": "code",
   "execution_count": null,
   "metadata": {},
   "outputs": [],
   "source": [
    "i) web page redesign\n",
    "ii) money making - try to built on the trust, since it goes long way to understand\n",
    "iii) multi -tasking\n",
    "iv) live interaction\n",
    "v) promotions"
   ]
  },
  {
   "cell_type": "markdown",
   "metadata": {},
   "source": [
    "Q)6"
   ]
  },
  {
   "cell_type": "code",
   "execution_count": null,
   "metadata": {},
   "outputs": [],
   "source": [
    "i) online median\n",
    "ii) instiuttion meeting\n",
    "iii) zoom interaction\n",
    "iv) community session\n",
    "v) content orientated\n",
    "vi) marketing\n",
    "vii) brand awareness\n",
    "viii) blogging\n",
    "ix) competitors\n",
    "x)price tagging\n"
   ]
  }
 ],
 "metadata": {
  "kernelspec": {
   "display_name": "Python 3",
   "language": "python",
   "name": "python3"
  },
  "language_info": {
   "codemirror_mode": {
    "name": "ipython",
    "version": 3
   },
   "file_extension": ".py",
   "mimetype": "text/x-python",
   "name": "python",
   "nbconvert_exporter": "python",
   "pygments_lexer": "ipython3",
   "version": "3.8.3"
  }
 },
 "nbformat": 4,
 "nbformat_minor": 4
}
